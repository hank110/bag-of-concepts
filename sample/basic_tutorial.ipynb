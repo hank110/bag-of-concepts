{
 "cells": [
  {
   "cell_type": "markdown",
   "metadata": {},
   "source": [
    "## Tutorial for BOC (Bag-of-Concepts)\n",
    "\n",
    "- This tutorial is a re-implementation of Kim, Han Kyul, Hyunjoong Kim, and Sungzoon Cho. \"Bag-of-Concepts: Comprehending Document Representation through Clustering Words in Distributed Representation.\" Neurocomputing (2017).\n",
    "\n",
    "- It will show you how to use this package to create sample BOC documents vectors as presented in the paper.\n",
    "\n",
    "- We will use the trained BOC vectors to train SVM classifier"
   ]
  },
  {
   "cell_type": "markdown",
   "metadata": {},
   "source": [
    "### 1. Import the package and designate the location of the input trext file.\n",
    "\n",
    "- If you don't have bagofconcepts installed, please install it using pip (refer to the commented line)\n",
    "\n",
    "- document_path contains 5,000 samples articles from Reuter dataset used in the paper"
   ]
  },
  {
   "cell_type": "code",
   "execution_count": 1,
   "metadata": {},
   "outputs": [],
   "source": [
    "import bagofconcepts as bc\n",
    "\n",
    "# pip install bagofconcepts\n",
    "document_path='./sample_data/sample_articles.txt'"
   ]
  },
  {
   "cell_type": "markdown",
   "metadata": {},
   "source": [
    "### 2. Train BOC document vectors\n",
    "\n",
    "#### List of initialization parameters\n",
    "- **doc_path**: full or relative path of the corpus to be trained. Each document of the corpus must be separated by a new line (Each line is equivalent to a single document)\n",
    "- **model_path**: full or relative path of the gensim model path to be loaded \n",
    "    - Pretrained gensim word2vec model can be loaded to generate boc vectors\n",
    "- **embedding_dim (default: 200)**: Dimension for training word2vec\n",
    "- **context (default: 8)**: size of the window to be used during word2vec training\n",
    "- **min_freq (default: 100)**: words below this threshold will be ignored during the training\n",
    "- **num_concept (default: 100)**: number of concepts to be generated from boc\n",
    "- **iterations (default: 5)**: number of epocs for word2vec training"
   ]
  },
  {
   "cell_type": "code",
   "execution_count": 2,
   "metadata": {},
   "outputs": [
    {
     "name": "stdout",
     "output_type": "stream",
     "text": [
      "5000\n"
     ]
    }
   ],
   "source": [
    "corpus = bc.utils.create_corpus(document_path)\n",
    "print(len(corpus))"
   ]
  },
  {
   "cell_type": "code",
   "execution_count": 3,
   "metadata": {},
   "outputs": [],
   "source": [
    "wv, idx2word = bc.utils.train_gensim_w2v(corpus, 200, 8, 50, 3)"
   ]
  },
  {
   "cell_type": "code",
   "execution_count": 4,
   "metadata": {},
   "outputs": [],
   "source": [
    "boc_model=bc.BOCModel(corpus, wv, idx2word, num_concept=100, iterations=5, random_state=42)\n",
    "\n",
    "boc_matrix, word2concept_list, idx2word_converter=boc_model.fit()"
   ]
  },
  {
   "cell_type": "code",
   "execution_count": 5,
   "metadata": {},
   "outputs": [
    {
     "name": "stdout",
     "output_type": "stream",
     "text": [
      "(5000, 100)\n"
     ]
    }
   ],
   "source": [
    "print(boc_matrix.shape)"
   ]
  },
  {
   "cell_type": "code",
   "execution_count": 6,
   "metadata": {},
   "outputs": [
    {
     "data": {
      "text/plain": [
       "[('the', 33),\n",
       " ('<br>', 33),\n",
       " ('to', 85),\n",
       " ('of', 89),\n",
       " ('a', 46),\n",
       " ('in', 33),\n",
       " ('and', 83),\n",
       " ('[%_Number_%]', 31),\n",
       " ('on', 18),\n",
       " ('said', 69)]"
      ]
     },
     "execution_count": 6,
     "metadata": {},
     "output_type": "execute_result"
    }
   ],
   "source": [
    "word2concept_list[:10]"
   ]
  },
  {
   "cell_type": "code",
   "execution_count": 7,
   "metadata": {},
   "outputs": [
    {
     "data": {
      "text/plain": [
       "['the', '<br>', 'to', 'of', 'a', 'in', 'and', '[%_Number_%]', 'on', 'said']"
      ]
     },
     "execution_count": 7,
     "metadata": {},
     "output_type": "execute_result"
    }
   ],
   "source": [
    "idx2word_converter[:10]"
   ]
  }
 ],
 "metadata": {
  "kernelspec": {
   "display_name": "Python 3 (ipykernel)",
   "language": "python",
   "name": "python3"
  },
  "language_info": {
   "codemirror_mode": {
    "name": "ipython",
    "version": 3
   },
   "file_extension": ".py",
   "mimetype": "text/x-python",
   "name": "python",
   "nbconvert_exporter": "python",
   "pygments_lexer": "ipython3",
   "version": "3.8.0"
  }
 },
 "nbformat": 4,
 "nbformat_minor": 4
}
